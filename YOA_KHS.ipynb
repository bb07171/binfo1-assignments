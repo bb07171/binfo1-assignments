{
  "nbformat": 4,
  "nbformat_minor": 0,
  "metadata": {
    "colab": {
      "provenance": [],
      "authorship_tag": "ABX9TyOeDIbVNCxbS6RAiIdRgvAX",
      "include_colab_link": true
    },
    "kernelspec": {
      "name": "python3",
      "display_name": "Python 3"
    },
    "language_info": {
      "name": "python"
    }
  },
  "cells": [
    {
      "cell_type": "markdown",
      "metadata": {
        "id": "view-in-github",
        "colab_type": "text"
      },
      "source": [
        "<a href=\"https://colab.research.google.com/github/bb07171/binfo1-assignments/blob/main/YOA_KHS.ipynb\" target=\"_parent\"><img src=\"https://colab.research.google.com/assets/colab-badge.svg\" alt=\"Open In Colab\"/></a>"
      ]
    },
    {
      "cell_type": "code",
      "execution_count": null,
      "metadata": {
        "id": "cE4Ynd8nWWDd"
      },
      "outputs": [],
      "source": [
        "# 주제를 아직 확정하지 못해 생각해둔 것들과 관련된 내용들만 간단히 적어두겠습니다.\n",
        "# Ghisays, Fiorella, et al. \"RTEL1 influences the abundance and localization of TERRA RNA.\" Nature communications 12.1 (2021): 3016.\n",
        "# Zhao, Weihao, et al. \"POSTAR3: an updated platform for exploring post-transcriptional regulation coordinated by RNA-binding proteins.\" Nucleic acids research 50.D1 (2022): D287-D294.\n",
        "# POSTAR3: CLIPdp / http://111.198.139.65/index.html\n"
      ]
    }
  ]
}